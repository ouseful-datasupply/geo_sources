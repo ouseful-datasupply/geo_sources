{
 "cells": [
  {
   "cell_type": "markdown",
   "id": "938c8e45",
   "metadata": {},
   "source": [
    "# More LSOA and Parish Sketches\n",
    "\n",
    "Exploring other routes to get LSOAs, Parish data, etc.\n",
    "\n",
    "One convenient, albeiut unoffical and *ad hoc*, source of UK shapefiles is: https://github.com/drkane/geo-lookups/ \n",
    "\n",
    "For example, we can get LSOAs:\n",
    "\n",
    "- index data: https://raw.githubusercontent.com/drkane/geo-lookups/refs/heads/master/lsoa_la.csv\n",
    "- LSOA boundaries: https://raw.githubusercontent.com/drkane/geo-lookups/refs/heads/master/boundaries/lsoa/E06000001.geojson"
   ]
  },
  {
   "cell_type": "code",
   "execution_count": null,
   "id": "202dfe03",
   "metadata": {},
   "outputs": [
    {
     "data": {
      "text/html": [
       "<i>naive plan: (run <b>LazyFrame.explain(optimized=True)</b> to see the optimized plan)</i>\n",
       "    <p></p>\n",
       "    <div>SLICE[offset: 0, len: 5]<p></p>  Csv SCAN [https://raw.githubusercontent.com/drkane/geo-lookups/refs/heads/master/lsoa_la.csv] [id: 4410720688]<p></p>  PROJECT */33 COLUMNS</div>"
      ],
      "text/plain": [
       "<LazyFrame at 0x1091C91D0>"
      ]
     },
     "execution_count": 6,
     "metadata": {},
     "output_type": "execute_result"
    }
   ],
   "source": [
    "import polars as pl\n",
    "\n",
    "\n",
    "def get_dr_kane_lsoa_la_lookups():\n",
    "    geo_index_url = \"https://raw.githubusercontent.com/drkane/geo-lookups/refs/heads/master/lsoa_la.csv\"\n",
    "\n",
    "    lsoa_df = pl.scan_csv(geo_index_url)\n",
    "    return lsoa_df\n",
    "\n",
    "\n",
    "lsoa_df = get_dr_kane_lsoa_la_lookups()\n",
    "lsoa_df.head()"
   ]
  },
  {
   "cell_type": "code",
   "execution_count": null,
   "id": "59becae1",
   "metadata": {},
   "outputs": [],
   "source": [
    "# Get LAD code from LA Name\n",
    "\n",
    "\n",
    "def getLADcodeFromName(df):\n",
    "    return (\n",
    "        df.select([\"LADNM_ACTIVE\", \"LADCD_ACTIVE\"])\n",
    "        .filter(pl.col(\"LADNM_ACTIVE\") == \"Isle of Wight\")\n",
    "        .collect()\n",
    "        .unique()\n",
    "    )"
   ]
  },
  {
   "cell_type": "code",
   "execution_count": null,
   "id": "b12f7ce6",
   "metadata": {},
   "outputs": [
    {
     "data": {
      "text/html": [
       "<div><style>\n",
       ".dataframe > thead > tr,\n",
       ".dataframe > tbody > tr {\n",
       "  text-align: right;\n",
       "  white-space: pre-wrap;\n",
       "}\n",
       "</style>\n",
       "<small>shape: (1, 2)</small><table border=\"1\" class=\"dataframe\"><thead><tr><th>LADNM_ACTIVE</th><th>LADCD_ACTIVE</th></tr><tr><td>str</td><td>str</td></tr></thead><tbody><tr><td>&quot;Isle of Wight&quot;</td><td>&quot;E06000046&quot;</td></tr></tbody></table></div>"
      ],
      "text/plain": [
       "shape: (1, 2)\n",
       "┌───────────────┬──────────────┐\n",
       "│ LADNM_ACTIVE  ┆ LADCD_ACTIVE │\n",
       "│ ---           ┆ ---          │\n",
       "│ str           ┆ str          │\n",
       "╞═══════════════╪══════════════╡\n",
       "│ Isle of Wight ┆ E06000046    │\n",
       "└───────────────┴──────────────┘"
      ]
     },
     "execution_count": 80,
     "metadata": {},
     "output_type": "execute_result"
    }
   ],
   "source": [
    "getLADcodeFromName(lsoa_df)"
   ]
  },
  {
   "cell_type": "code",
   "execution_count": null,
   "id": "f816137b",
   "metadata": {},
   "outputs": [
    {
     "data": {
      "text/html": [
       "<i>naive plan: (run <b>LazyFrame.explain(optimized=True)</b> to see the optimized plan)</i>\n",
       "    <p></p>\n",
       "    <div>SLICE[offset: 0, len: 5]<p></p>  Csv SCAN [https://raw.githubusercontent.com/drkane/geo-lookups/refs/heads/master/ward_all_codes.csv] [id: 5037655072]<p></p>  PROJECT */23 COLUMNS</div>"
      ],
      "text/plain": [
       "<LazyFrame at 0x12EFB7450>"
      ]
     },
     "execution_count": 50,
     "metadata": {},
     "output_type": "execute_result"
    }
   ],
   "source": [
    "def get_dr_kane_wards_lookups():\n",
    "    geo_index_url = \"https://raw.githubusercontent.com/drkane/geo-lookups/refs/heads/master/ward_all_codes.csv\"\n",
    "\n",
    "    wards_df = pl.scan_csv(geo_index_url)\n",
    "    return wards_df\n",
    "\n",
    "\n",
    "wards_df = get_dr_kane_wards_lookups()\n",
    "wards_df.head()"
   ]
  },
  {
   "cell_type": "code",
   "execution_count": 81,
   "id": "7c1dd9ec",
   "metadata": {},
   "outputs": [
    {
     "data": {
      "text/html": [
       "<div><style>\n",
       ".dataframe > thead > tr,\n",
       ".dataframe > tbody > tr {\n",
       "  text-align: right;\n",
       "  white-space: pre-wrap;\n",
       "}\n",
       "</style>\n",
       "<small>shape: (1, 2)</small><table border=\"1\" class=\"dataframe\"><thead><tr><th>LADNM_ACTIVE</th><th>LADCD_ACTIVE</th></tr><tr><td>str</td><td>str</td></tr></thead><tbody><tr><td>&quot;Isle of Wight&quot;</td><td>&quot;E06000046&quot;</td></tr></tbody></table></div>"
      ],
      "text/plain": [
       "shape: (1, 2)\n",
       "┌───────────────┬──────────────┐\n",
       "│ LADNM_ACTIVE  ┆ LADCD_ACTIVE │\n",
       "│ ---           ┆ ---          │\n",
       "│ str           ┆ str          │\n",
       "╞═══════════════╪══════════════╡\n",
       "│ Isle of Wight ┆ E06000046    │\n",
       "└───────────────┴──────────────┘"
      ]
     },
     "execution_count": 81,
     "metadata": {},
     "output_type": "execute_result"
    }
   ],
   "source": [
    "getLADcodeFromName(wards_df)"
   ]
  },
  {
   "cell_type": "markdown",
   "id": "b45159b8",
   "metadata": {},
   "source": [
    "If we know the LSOA or ward code, we can get the boundary file:"
   ]
  },
  {
   "cell_type": "code",
   "execution_count": null,
   "id": "839b4c91",
   "metadata": {},
   "outputs": [],
   "source": [
    "import requests\n",
    "from shapely.geometry import shape\n",
    "import geopandas as gpd\n",
    "\n",
    "\n",
    "def get_drkane_geoboundary(id, typ=\"LSOA\", name=\"LSOA21NM\", astype=\"gpd\"):\n",
    "    \"\"\"Simple function to pull LSOA data from drkane's geo repo.\"\"\"\n",
    "    base_url = \"https://raw.githubusercontent.com/drkane/geo-lookups/refs/heads/master/boundaries/\"\n",
    "    url = \"\"\n",
    "    if typ == \"LSOA\":\n",
    "        url = f\"{base_url}lsoa/{id}.geojson\"\n",
    "    elif typ == \"ward\":\n",
    "        url = f\"{base_url}ward/{id}.geojson\"\n",
    "    if url:\n",
    "        if astype == \"gpd\":\n",
    "            return gpd.read_file(url)\n",
    "        geojson = requests.get(url).json()\n",
    "        if astype == \"polygon\":\n",
    "            geometries = {\n",
    "                feature[\"properties\"][name]: shape(feature[\"geometry\"])\n",
    "                for feature in geojson[\"features\"]\n",
    "            }\n",
    "            return geometries\n",
    "        return geojson"
   ]
  },
  {
   "cell_type": "code",
   "execution_count": 82,
   "id": "7d7d14a4",
   "metadata": {},
   "outputs": [
    {
     "name": "stdout",
     "output_type": "stream",
     "text": [
      "https://raw.githubusercontent.com/drkane/geo-lookups/refs/heads/master/boundaries/lsoa/E06000046.geojson\n"
     ]
    },
    {
     "data": {
      "text/html": [
       "<div>\n",
       "<style scoped>\n",
       "    .dataframe tbody tr th:only-of-type {\n",
       "        vertical-align: middle;\n",
       "    }\n",
       "\n",
       "    .dataframe tbody tr th {\n",
       "        vertical-align: top;\n",
       "    }\n",
       "\n",
       "    .dataframe thead th {\n",
       "        text-align: right;\n",
       "    }\n",
       "</style>\n",
       "<table border=\"1\" class=\"dataframe\">\n",
       "  <thead>\n",
       "    <tr style=\"text-align: right;\">\n",
       "      <th></th>\n",
       "      <th>FID</th>\n",
       "      <th>LSOA21CD</th>\n",
       "      <th>LSOA21NM</th>\n",
       "      <th>GlobalID</th>\n",
       "      <th>LADCD_ACTIVE</th>\n",
       "      <th>UTLACD</th>\n",
       "      <th>CAUTHCD</th>\n",
       "      <th>RGNCD</th>\n",
       "      <th>geometry</th>\n",
       "    </tr>\n",
       "  </thead>\n",
       "  <tbody>\n",
       "    <tr>\n",
       "      <th>0</th>\n",
       "      <td>16412</td>\n",
       "      <td>E01017282</td>\n",
       "      <td>Isle of Wight 006A</td>\n",
       "      <td>2c7fa55d-6a50-4f9a-83a2-4660101080bf</td>\n",
       "      <td>E06000046</td>\n",
       "      <td>E06000046</td>\n",
       "      <td>None</td>\n",
       "      <td>E12000008</td>\n",
       "      <td>POLYGON ((-1.17166 50.72115, -1.17089 50.72046...</td>\n",
       "    </tr>\n",
       "    <tr>\n",
       "      <th>1</th>\n",
       "      <td>16413</td>\n",
       "      <td>E01017283</td>\n",
       "      <td>Isle of Wight 006B</td>\n",
       "      <td>513668ed-b2fb-4e5c-b850-0249d34382b3</td>\n",
       "      <td>E06000046</td>\n",
       "      <td>E06000046</td>\n",
       "      <td>None</td>\n",
       "      <td>E12000008</td>\n",
       "      <td>POLYGON ((-1.16807 50.72136, -1.16972 50.72077...</td>\n",
       "    </tr>\n",
       "    <tr>\n",
       "      <th>2</th>\n",
       "      <td>16414</td>\n",
       "      <td>E01017284</td>\n",
       "      <td>Isle of Wight 010A</td>\n",
       "      <td>888accb6-dd1e-4e96-8095-632580d4be2c</td>\n",
       "      <td>E06000046</td>\n",
       "      <td>E06000046</td>\n",
       "      <td>None</td>\n",
       "      <td>E12000008</td>\n",
       "      <td>POLYGON ((-1.07777 50.69221, -1.08034 50.69064...</td>\n",
       "    </tr>\n",
       "  </tbody>\n",
       "</table>\n",
       "</div>"
      ],
      "text/plain": [
       "     FID   LSOA21CD            LSOA21NM                              GlobalID  \\\n",
       "0  16412  E01017282  Isle of Wight 006A  2c7fa55d-6a50-4f9a-83a2-4660101080bf   \n",
       "1  16413  E01017283  Isle of Wight 006B  513668ed-b2fb-4e5c-b850-0249d34382b3   \n",
       "2  16414  E01017284  Isle of Wight 010A  888accb6-dd1e-4e96-8095-632580d4be2c   \n",
       "\n",
       "  LADCD_ACTIVE     UTLACD CAUTHCD      RGNCD  \\\n",
       "0    E06000046  E06000046    None  E12000008   \n",
       "1    E06000046  E06000046    None  E12000008   \n",
       "2    E06000046  E06000046    None  E12000008   \n",
       "\n",
       "                                            geometry  \n",
       "0  POLYGON ((-1.17166 50.72115, -1.17089 50.72046...  \n",
       "1  POLYGON ((-1.16807 50.72136, -1.16972 50.72077...  \n",
       "2  POLYGON ((-1.07777 50.69221, -1.08034 50.69064...  "
      ]
     },
     "execution_count": 82,
     "metadata": {},
     "output_type": "execute_result"
    }
   ],
   "source": [
    "# Example of getting the LSOA boundaries within an LA\n",
    "LA_code = getLADcodeFromName(lsoa_df)[0, \"LADCD_ACTIVE\"]\n",
    "gj_data = get_drkane_geoboundary(LA_code, astype=\"gpd\")\n",
    "gj_data.head(3)"
   ]
  },
  {
   "cell_type": "code",
   "execution_count": 84,
   "id": "21a0a532",
   "metadata": {},
   "outputs": [
    {
     "name": "stdout",
     "output_type": "stream",
     "text": [
      "https://raw.githubusercontent.com/drkane/geo-lookups/refs/heads/master/boundaries/ward/E06000046.geojson\n"
     ]
    },
    {
     "data": {
      "text/html": [
       "<div>\n",
       "<style scoped>\n",
       "    .dataframe tbody tr th:only-of-type {\n",
       "        vertical-align: middle;\n",
       "    }\n",
       "\n",
       "    .dataframe tbody tr th {\n",
       "        vertical-align: top;\n",
       "    }\n",
       "\n",
       "    .dataframe thead th {\n",
       "        text-align: right;\n",
       "    }\n",
       "</style>\n",
       "<table border=\"1\" class=\"dataframe\">\n",
       "  <thead>\n",
       "    <tr style=\"text-align: right;\">\n",
       "      <th></th>\n",
       "      <th>WD22CD</th>\n",
       "      <th>WD22NM</th>\n",
       "      <th>WD22NMW</th>\n",
       "      <th>LAD22CD</th>\n",
       "      <th>LAD22NM</th>\n",
       "      <th>BNG_E</th>\n",
       "      <th>BNG_N</th>\n",
       "      <th>LONG</th>\n",
       "      <th>LAT</th>\n",
       "      <th>FID</th>\n",
       "      <th>GlobalID</th>\n",
       "      <th>LADCD_ACTIVE</th>\n",
       "      <th>UTLACD</th>\n",
       "      <th>CAUTHCD</th>\n",
       "      <th>RGNCD</th>\n",
       "      <th>geometry</th>\n",
       "    </tr>\n",
       "  </thead>\n",
       "  <tbody>\n",
       "    <tr>\n",
       "      <th>0</th>\n",
       "      <td>E05013359</td>\n",
       "      <td>Bembridge</td>\n",
       "      <td></td>\n",
       "      <td>E06000046</td>\n",
       "      <td>Isle of Wight</td>\n",
       "      <td>463510</td>\n",
       "      <td>87135</td>\n",
       "      <td>-1.10243</td>\n",
       "      <td>50.68040</td>\n",
       "      <td>5873</td>\n",
       "      <td>491b4aff-1c14-49fb-a3bd-b382f7085d6a</td>\n",
       "      <td>E06000046</td>\n",
       "      <td>E06000046</td>\n",
       "      <td>None</td>\n",
       "      <td>E12000008</td>\n",
       "      <td>POLYGON ((-1.10896 50.66555, -1.11694 50.66866...</td>\n",
       "    </tr>\n",
       "    <tr>\n",
       "      <th>1</th>\n",
       "      <td>E05013360</td>\n",
       "      <td>Binstead &amp; Fishbourne</td>\n",
       "      <td></td>\n",
       "      <td>E06000046</td>\n",
       "      <td>Isle of Wight</td>\n",
       "      <td>456304</td>\n",
       "      <td>92223</td>\n",
       "      <td>-1.20364</td>\n",
       "      <td>50.72689</td>\n",
       "      <td>5874</td>\n",
       "      <td>ff2026dd-877e-48de-97e2-26fe8f0b395d</td>\n",
       "      <td>E06000046</td>\n",
       "      <td>E06000046</td>\n",
       "      <td>None</td>\n",
       "      <td>E12000008</td>\n",
       "      <td>POLYGON ((-1.17441 50.73368, -1.17438 50.73257...</td>\n",
       "    </tr>\n",
       "    <tr>\n",
       "      <th>2</th>\n",
       "      <td>E05013361</td>\n",
       "      <td>Brading &amp; St Helens</td>\n",
       "      <td></td>\n",
       "      <td>E06000046</td>\n",
       "      <td>Isle of Wight</td>\n",
       "      <td>460289</td>\n",
       "      <td>87763</td>\n",
       "      <td>-1.14792</td>\n",
       "      <td>50.68639</td>\n",
       "      <td>5875</td>\n",
       "      <td>84707b29-b066-4f73-8dce-d251701a35d9</td>\n",
       "      <td>E06000046</td>\n",
       "      <td>E06000046</td>\n",
       "      <td>None</td>\n",
       "      <td>E12000008</td>\n",
       "      <td>POLYGON ((-1.14694 50.70689, -1.14114 50.7053,...</td>\n",
       "    </tr>\n",
       "    <tr>\n",
       "      <th>3</th>\n",
       "      <td>E05013362</td>\n",
       "      <td>Brighstone, Calbourne &amp; Shalfleet</td>\n",
       "      <td></td>\n",
       "      <td>E06000046</td>\n",
       "      <td>Isle of Wight</td>\n",
       "      <td>442609</td>\n",
       "      <td>85798</td>\n",
       "      <td>-1.39840</td>\n",
       "      <td>50.67028</td>\n",
       "      <td>5876</td>\n",
       "      <td>8b8cc5a9-aad5-474a-9392-5ece115ec37a</td>\n",
       "      <td>E06000046</td>\n",
       "      <td>E06000046</td>\n",
       "      <td>None</td>\n",
       "      <td>E12000008</td>\n",
       "      <td>MULTIPOLYGON (((-1.42653 50.70598, -1.42656 50...</td>\n",
       "    </tr>\n",
       "    <tr>\n",
       "      <th>4</th>\n",
       "      <td>E05013363</td>\n",
       "      <td>Carisbrooke &amp; Gunville</td>\n",
       "      <td></td>\n",
       "      <td>E06000046</td>\n",
       "      <td>Isle of Wight</td>\n",
       "      <td>447075</td>\n",
       "      <td>86548</td>\n",
       "      <td>-1.33511</td>\n",
       "      <td>50.67668</td>\n",
       "      <td>5877</td>\n",
       "      <td>7b5bfd02-61ab-44a3-8bd4-41df048a036f</td>\n",
       "      <td>E06000046</td>\n",
       "      <td>E06000046</td>\n",
       "      <td>None</td>\n",
       "      <td>E12000008</td>\n",
       "      <td>POLYGON ((-1.32014 50.70135, -1.32141 50.70066...</td>\n",
       "    </tr>\n",
       "  </tbody>\n",
       "</table>\n",
       "</div>"
      ],
      "text/plain": [
       "      WD22CD                             WD22NM WD22NMW    LAD22CD  \\\n",
       "0  E05013359                          Bembridge          E06000046   \n",
       "1  E05013360              Binstead & Fishbourne          E06000046   \n",
       "2  E05013361                Brading & St Helens          E06000046   \n",
       "3  E05013362  Brighstone, Calbourne & Shalfleet          E06000046   \n",
       "4  E05013363             Carisbrooke & Gunville          E06000046   \n",
       "\n",
       "         LAD22NM   BNG_E  BNG_N     LONG       LAT   FID  \\\n",
       "0  Isle of Wight  463510  87135 -1.10243  50.68040  5873   \n",
       "1  Isle of Wight  456304  92223 -1.20364  50.72689  5874   \n",
       "2  Isle of Wight  460289  87763 -1.14792  50.68639  5875   \n",
       "3  Isle of Wight  442609  85798 -1.39840  50.67028  5876   \n",
       "4  Isle of Wight  447075  86548 -1.33511  50.67668  5877   \n",
       "\n",
       "                               GlobalID LADCD_ACTIVE     UTLACD CAUTHCD  \\\n",
       "0  491b4aff-1c14-49fb-a3bd-b382f7085d6a    E06000046  E06000046    None   \n",
       "1  ff2026dd-877e-48de-97e2-26fe8f0b395d    E06000046  E06000046    None   \n",
       "2  84707b29-b066-4f73-8dce-d251701a35d9    E06000046  E06000046    None   \n",
       "3  8b8cc5a9-aad5-474a-9392-5ece115ec37a    E06000046  E06000046    None   \n",
       "4  7b5bfd02-61ab-44a3-8bd4-41df048a036f    E06000046  E06000046    None   \n",
       "\n",
       "       RGNCD                                           geometry  \n",
       "0  E12000008  POLYGON ((-1.10896 50.66555, -1.11694 50.66866...  \n",
       "1  E12000008  POLYGON ((-1.17441 50.73368, -1.17438 50.73257...  \n",
       "2  E12000008  POLYGON ((-1.14694 50.70689, -1.14114 50.7053,...  \n",
       "3  E12000008  MULTIPOLYGON (((-1.42653 50.70598, -1.42656 50...  \n",
       "4  E12000008  POLYGON ((-1.32014 50.70135, -1.32141 50.70066...  "
      ]
     },
     "execution_count": 84,
     "metadata": {},
     "output_type": "execute_result"
    }
   ],
   "source": [
    "# Example of getting the Ward boundaries within an LAD\n",
    "gj_data2 = get_drkane_geoboundary(LA_code, typ=\"ward\", astype=\"gpd\")\n",
    "gj_data2.head()"
   ]
  },
  {
   "cell_type": "code",
   "execution_count": null,
   "id": "f6c0f91f",
   "metadata": {},
   "outputs": [],
   "source": []
  }
 ],
 "metadata": {
  "kernelspec": {
   "display_name": "Python 3",
   "language": "python",
   "name": "python3"
  },
  "language_info": {
   "codemirror_mode": {
    "name": "ipython",
    "version": 3
   },
   "file_extension": ".py",
   "mimetype": "text/x-python",
   "name": "python",
   "nbconvert_exporter": "python",
   "pygments_lexer": "ipython3",
   "version": "3.11.0"
  }
 },
 "nbformat": 4,
 "nbformat_minor": 5
}
